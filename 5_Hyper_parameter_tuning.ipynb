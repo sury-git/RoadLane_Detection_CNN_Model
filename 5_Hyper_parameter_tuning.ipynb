{
 "cells": [
  {
   "cell_type": "code",
   "execution_count": 2,
   "metadata": {},
   "outputs": [],
   "source": [
    "import tensorflow as tf\n",
    "from tensorflow import keras\n",
    "from tensorflow.keras import layers\n",
    "import keras_tuner as kt\n",
    "\n",
    "# Define function to build the model\n",
    "def build_model(hp):\n",
    "    inputs = keras.Input(shape=(256, 256, 3))\n",
    "    \n",
    "    # Tune the number of filters in the first Conv2D layer\n",
    "    filters = hp.Choice('filters', values=[32, 64, 128])\n",
    "    \n",
    "    x = layers.Conv2D(filters, (3,3), activation='relu', padding='same')(inputs)\n",
    "    x = layers.MaxPooling2D()(x)\n",
    "    x = layers.Conv2D(filters*2, (3,3), activation='relu', padding='same')(x)\n",
    "    x = layers.MaxPooling2D()(x)\n",
    "\n",
    "    # Tune dropout rate\n",
    "    dropout_rate = hp.Float('dropout', 0.1, 0.5, step=0.1)\n",
    "    x = layers.Dropout(dropout_rate)(x)\n",
    "    \n",
    "    x = layers.Conv2D(filters*4, (3,3), activation='relu', padding='same')(x)\n",
    "    x = layers.Conv2D(filters*4, (3,3), activation='relu', padding='same')(x)\n",
    "    \n",
    "    x = layers.Conv2DTranspose(filters*2, (3,3), strides=2, activation='relu', padding='same')(x)\n",
    "    x = layers.Conv2DTranspose(filters, (3,3), strides=2, activation='relu', padding='same')(x)\n",
    "    \n",
    "    outputs = layers.Conv2D(1, (1,1), activation='sigmoid', padding='same')(x)\n",
    "    \n",
    "    model = keras.Model(inputs, outputs)\n",
    "\n",
    "    # Tune optimizer choice\n",
    "    optimizer = hp.Choice('optimizer', values=['adam', 'rmsprop', 'sgd'])\n",
    "\n",
    "    model.compile(\n",
    "        optimizer=optimizer,\n",
    "        loss=\"binary_crossentropy\",\n",
    "        metrics=[\"accuracy\"]\n",
    "    )\n",
    "    \n",
    "    return model\n"
   ]
  },
  {
   "cell_type": "markdown",
   "metadata": {},
   "source": [
    "import os\n",
    "import cv2\n",
    "import numpy as np\n",
    "from sklearn.model_selection import train_test_split\n",
    " \n",
    "def load_images(image_dir, mask_dir, img_size=(256, 256)):\n",
    "    images, masks = [], []\n",
    "\n",
    "    image_files = sorted(os.listdir(image_dir))  # Ensure proper order\n",
    "    mask_files = sorted(os.listdir(mask_dir))  \n",
    "\n",
    "    for img_file, mask_file in zip(image_files, mask_files):\n",
    "        img_path = os.path.join(image_dir, img_file)\n",
    "        mask_path = os.path.join(mask_dir, mask_file)\n",
    "\n",
    "        img = cv2.imread(img_path)\n",
    "        img = cv2.resize(img, img_size) / 255.0  # Normalize\n",
    "\n",
    "        mask = cv2.imread(mask_path, cv2.IMREAD_GRAYSCALE)  # Load as grayscale\n",
    "        mask = cv2.resize(mask, img_size) / 255.0  # Normalize\n",
    "        mask = np.expand_dims(mask, axis=-1)  # Add channel dimension\n",
    "\n",
    "        images.append(img)\n",
    "        masks.append(mask)\n",
    "\n",
    "    return np.array(images), np.array(masks)\n",
    "\n",
    "# Paths to your dataset\n",
    "image_dir = \"C:\\\\PGDAI\\\\Project\\\\Self Development\\\\Try_2\\\\training\\\\frames\"\n",
    "mask_dir = \"C:\\\\PGDAI\\\\Project\\\\Self Development\\\\Try_2\\\\training\\\\lane-masks\"\n",
    "\n",
    "# Load dataset\n",
    "X, y = load_images(image_dir, mask_dir)\n",
    "\n",
    "# Split into training & validation sets\n",
    "X_train, X_val, y_train, y_val = train_test_split(X, y, test_size=0.2, random_state=42)\n"
   ]
  },
  {
   "cell_type": "code",
   "execution_count": 3,
   "metadata": {},
   "outputs": [
    {
     "name": "stdout",
     "output_type": "stream",
     "text": [
      "Trial 10 Complete [00h 01m 03s]\n",
      "\n",
      "Best val_accuracy So Far: 0.9571406245231628\n",
      "Total elapsed time: 05h 28m 23s\n"
     ]
    },
    {
     "name": "stderr",
     "output_type": "stream",
     "text": [
      "c:\\PGDAI\\Project\\Self Development\\myenv\\Lib\\site-packages\\keras\\src\\saving\\saving_lib.py:757: UserWarning: Skipping variable loading for optimizer 'adam', because it has 2 variables whereas the saved optimizer has 30 variables. \n",
      "  saveable.load_own_variables(weights_store.get(inner_path))\n",
      "WARNING:absl:You are saving your model as an HDF5 file via `model.save()` or `keras.saving.save_model(model)`. This file format is considered legacy. We recommend using instead the native Keras format, e.g. `model.save('my_model.keras')` or `keras.saving.save_model(model, 'my_model.keras')`. \n"
     ]
    },
    {
     "name": "stdout",
     "output_type": "stream",
     "text": [
      "Best Hyperparameters:\n",
      "Filters: 64\n",
      "Dropout Rate: 0.4\n",
      "Optimizer: adam\n"
     ]
    }
   ],
   "source": [
    "# Define tuner\n",
    "tuner = kt.RandomSearch(\n",
    "    build_model,\n",
    "    objective=\"val_accuracy\",\n",
    "    max_trials=10,  # Number of different hyperparameter combinations to try\n",
    "    executions_per_trial=1,  # Number of times each model configuration is trained\n",
    "    directory=\"hyperparam_tuning\",\n",
    "    project_name=\"lane_detection\"\n",
    ")\n",
    "\n",
    "import numpy as np\n",
    "\n",
    "# Load dataset\n",
    "data = np.load(\"dataset_split.npz\")\n",
    "\n",
    "# Access variables\n",
    "X_train = data[\"X_train\"]\n",
    "X_val = data[\"X_val\"]\n",
    "y_train = data[\"y_train\"]\n",
    "y_val = data[\"y_val\"]\n",
    "\n",
    "# print(\"Dataset loaded successfully!\")\n",
    "\n",
    "# # Load dataset\n",
    "# X_train, y_train = ...  # Load training data\n",
    "# X_val, y_val = ...  # Load validation data\n",
    "\n",
    "# Perform hyperparameter tuning\n",
    "tuner.search(X_train, y_train, epochs=10, validation_data=(X_val, y_val))\n",
    "\n",
    "# Get the best model\n",
    "best_hyperparameters = tuner.get_best_hyperparameters(num_trials=1)[0]\n",
    "best_model = tuner.get_best_models(num_models=1)[0]\n",
    "\n",
    "# Print best hyperparameters\n",
    "print(\"Best Hyperparameters:\")\n",
    "print(f\"Filters: {best_hyperparameters.get('filters')}\")\n",
    "print(f\"Dropout Rate: {best_hyperparameters.get('dropout')}\")\n",
    "print(f\"Optimizer: {best_hyperparameters.get('optimizer')}\")\n",
    "\n",
    "# Save best model\n",
    "best_model.save(\"best_lane_detection_model.h5\")\n"
   ]
  }
 ],
 "metadata": {
  "kernelspec": {
   "display_name": "myenv",
   "language": "python",
   "name": "python3"
  },
  "language_info": {
   "codemirror_mode": {
    "name": "ipython",
    "version": 3
   },
   "file_extension": ".py",
   "mimetype": "text/x-python",
   "name": "python",
   "nbconvert_exporter": "python",
   "pygments_lexer": "ipython3",
   "version": "3.12.8"
  }
 },
 "nbformat": 4,
 "nbformat_minor": 2
}
